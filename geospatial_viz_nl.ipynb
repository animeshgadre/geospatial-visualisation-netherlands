{
 "cells": [
  {
   "cell_type": "markdown",
   "id": "fca6d1d2-a607-4450-8e5a-765dde70c843",
   "metadata": {},
   "source": [
    "# Basic Geospatial Visualisation: The Netherlands"
   ]
  },
  {
   "cell_type": "markdown",
   "id": "6512a23d-6f25-4226-8c6e-cb3d9eb5e523",
   "metadata": {},
   "source": [
    "This is an elementary geospatial visualisation exercise on Python. I use the polygon shapefile containing the first-level administrative divisions (provinces) of Netherlands. "
   ]
  },
  {
   "cell_type": "code",
   "execution_count": null,
   "id": "d32edb30-5339-4f9d-94b3-f43281812e36",
   "metadata": {},
   "outputs": [],
   "source": [
    "import numpy as np\n",
    "import pandas as pd\n",
    "import geopandas as gpd\n",
    "import plotly.express as px\n",
    "import matplotlib.pyplot as plt\n",
    "import json\n",
    "import colorcet as cc\n",
    "import seaborn as sns"
   ]
  },
  {
   "cell_type": "code",
   "execution_count": null,
   "id": "e218a36e-0848-4f7c-899f-39994d81f239",
   "metadata": {},
   "outputs": [],
   "source": [
    "# Reading the shapefile and the CBS data. The data contains province-wise natural gas consumption in the year 2015.\n",
    "\n",
    "df = gpd.read_file(\"https://stacks.stanford.edu/file/druid:st293bj4601/data.zip\")\n",
    "energy = pd.read_csv(\"C:\\\\Users\\\\anime\\\\Downloads\\\\Energy_consumption_private_dwellings_08082024_102354.csv\", sep = ';')"
   ]
  },
  {
   "cell_type": "code",
   "execution_count": null,
   "id": "57d3a4d8-7806-4f36-b9c7-19dbe17b24a1",
   "metadata": {},
   "outputs": [],
   "source": [
    "# Cleaning data for convenience\n",
    "\n",
    "energy = energy[energy['Housing characteristics'] == 'Total dwellings']\n",
    "province_mapping = {\n",
    "    'Groningen (PV)': 'Groningen',\n",
    "    'Fryslân (PV)': 'Friesland',\n",
    "    'Drenthe (PV)': 'Drenthe',\n",
    "    'Overijssel (PV)' : 'Overijssel',\n",
    "    'Flevoland (PV)' : 'Flevoland',\n",
    "    'Gelderland (PV)' : 'Gelderland',\n",
    "    'Utrecht (PV)' : 'Utrecht',\n",
    "    'Noord-Holland (PV)' : 'Noord-Holland',\n",
    "    'Zuid-Holland (PV)' : 'Zuid-Holland',\n",
    "    'Zeeland (PV)' : 'Zeeland',\n",
    "    'Noord-Brabant (PV)' : 'Noord-Brabant',\n",
    "    'Limburg (PV)' : 'Limburg'}\n",
    "\n",
    "def replace_name(province):\n",
    "    return province_mapping.get(province, province)    \n",
    "\n",
    "energy.loc[:, 'Regions'] = energy['Regions'].apply(replace_name)\n",
    "df.rename(columns={'NAME_1': 'Regions'}, inplace=True)\n",
    "energy = energy[['Housing characteristics', 'Regions', 'Periods', 'Average consumption of natural gas (m3)', 'Average supply of electricity (kWh)']]\n",
    "df = df[df['TYPE_1'] == 'Provincie']\n",
    "df = df.reset_index(drop=True)\n",
    "merged = df.merge(energy, on = ['Regions'])"
   ]
  },
  {
   "cell_type": "code",
   "execution_count": null,
   "id": "34f4411a-aac0-4cd4-92d7-22e0fa592017",
   "metadata": {},
   "outputs": [],
   "source": [
    "ac = merged.explore('Average consumption of natural gas (m3)')\n",
    "ac"
   ]
  },
  {
   "cell_type": "code",
   "execution_count": null,
   "id": "8e1ff0c6-b526-427b-a2ec-68454a721407",
   "metadata": {},
   "outputs": [],
   "source": [
    "variable = 'Average consumption of natural gas (m3)'\n",
    "\n",
    "vmin, vmax = 120, 220\n",
    "\n",
    "fig, ax = plt.subplots(1, figsize=(10, 6))\n",
    "merged.plot(column=variable, cmap='PuBuGn', linewidth=0.8, ax=ax, edgecolor= '0.8', legend=True)\n",
    "ax.axis('off')\n",
    "ax.set_title('Average consumption of natural gas (m3), 2015',fontdict={'fontsize': '14', 'fontweight' : '3'})\n",
    "ax.annotate('Source: Centraal Bureau voor de Statistiek', xy=(0.1, .08),  xycoords= 'figure fraction', horizontalalignment='left', verticalalignment='top', fontsize=10, color='#555555')",
    "plt.savefig('avg_gas.png', bbox_inches='tight')"
   ]
  },
  {
   "cell_type": "code",
   "execution_count": null,
   "id": "81a94ef1-fe9d-49ba-8bb5-7cda61626566",
   "metadata": {},
   "outputs": [],
   "source": [
    "# Reading data for natural gas consumption from 2015 to 2022\n",
    "\n",
    "energy_total = pd.read_csv(\"C:\\\\Users\\\\anime\\\\Downloads\\\\Energy_consumption_private_dwellings_08082024_101451.csv\", sep = ';')\n",
    "energy_total.loc[:, 'Regions'] = energy_total['Regions'].apply(replace_name)\n",
    "energy_total = energy_total[energy_total['Housing characteristics'] == 'Total dwellings']\n",
    "energy_total['Periods'] = energy_total['Periods'].str.replace('2022*', '2022', regex=False)\n",
    "merged1 = df.merge(energy_total, on = ['Regions'])"
   ]
  },
  {
   "cell_type": "code",
   "execution_count": null,
   "id": "9038c24d-1bf2-492a-bf40-9170ee25d0fb",
   "metadata": {},
   "outputs": [],
   "source": [
    "gdf_json = json.loads(merged1.to_json())\n",
    "merged1['Periods'] = merged1['Periods'].astype(str)"
   ]
  },
  {
   "cell_type": "code",
   "execution_count": null,
   "id": "eed9177d-ccf5-4c76-8ec4-b07793180573",
   "metadata": {},
   "outputs": [],
   "source": [
    "# Animated choropleth map tracking the changes in natural gas consumption\n",
    "\n",
    "fig = px.choropleth_mapbox(\n",
    "    merged1,\n",
    "    geojson=gdf_json,\n",
    "    locations='Regions',\n",
    "    featureidkey='properties.Regions',\n",
    "    color='Average consumption of natural gas (m3)',\n",
    "    animation_frame='Periods',\n",
    "    mapbox_style=\"carto-positron\",\n",
    "    zoom=6,\n",
    "    center={\"lat\": 52.366, \"lon\": 5.515},\n",
    "    color_continuous_scale=\"Emrld\",\n",
    "    title=\"Natural Gas Consumption in the Netherlands (2015-2022)\",\n",
    "    range_color=(merged1['Average consumption of natural gas (m3)'].min(), merged1['Average consumption of natural gas (m3)'].max()),\n",
    "    width=1100,\n",
    "    height=750\n",
    ")\n",
    "\n",
    "fig.show()",
    "fig.write_html("Output/gas.html")" 
   ]
  },
  {
   "cell_type": "code",
   "execution_count": null,
   "id": "6ad6d3f8-1b65-4f7e-a52c-b7f98c138dbd",
   "metadata": {},
   "outputs": [],
   "source": [
    "# Spatio-temporal plot\n",
    "\n",
    "fig, axes = plt.subplots(nrows=2, ncols=4, figsize=(16, 12))\n",
    "axes = axes.flatten()\n",
    "fig.patch.set_facecolor('#d2e1f7')\n",
    "legend_choice = [False] * len(axes)\n",
    "legend_choice[2] = True\n",
    "for i, year in enumerate(merged1[\"Periods\"].unique()):\n",
    "    merged1_cut = merged1[merged1[\"Periods\"] == year]\n",
    "    merged1_cut.plot(\n",
    "        ax=axes[i],\n",
    "        column=variable,\n",
    "        vmin=400,\n",
    "        vmax=1800,\n",
    "        cmap=cc.cm.CET_L19,\n",
    "    )\n",
    "    axes[i].axis(\"off\")\n",
    "    axes[i].set_title(pd.to_datetime(str(year)).strftime(\"%Y\"), size=10)\n",
    "\n",
    "cbar_ax = fig.add_axes([0.92, 0.15, 0.02, 0.7])  \n",
    "sm = plt.cm.ScalarMappable(cmap=cc.cm.CET_L19, norm=plt.Normalize(vmin=400, vmax=1800))\n",
    "cbar = fig.colorbar(sm, cax=cbar_ax) \n",
    "\n",
    "plt.suptitle(\"Change in Natural Gas Consumption\", size=14)\n",
    "plt.savefig('gas_change.png', bbox_inches='tight')",
    "plt.show()"
   ]
  },
  {
   "cell_type": "markdown",
   "id": "8fb521ce-8496-4502-8353-341686f64f40",
   "metadata": {},
   "source": [
    "We can observe that the natural gas consumption across provinces is on a steady decline. There is a surge in the consumption in 2021 presumably due to the resumption of full scale economic activity after the end of the lockdown."
   ]
  },
  {
   "cell_type": "code",
   "execution_count": null,
   "id": "1a663632-f2e2-4abe-807c-a02b49015646",
   "metadata": {},
   "outputs": [],
   "source": [
    "# Reading data for fixed capital formation\n",
    "\n",
    "fcf = pd.read_csv(\"C:\\\\Users\\\\anime\\\\Downloads\\\\Fixed_capital_formation_by_region_08082024_111835.csv\", sep = ';')\n",
    "fcf.loc[:, 'Regions'] = fcf['Regions'].apply(replace_name)\n",
    "merged2 = df.merge(fcf, on = ['Regions'])"
   ]
  },
  {
   "cell_type": "code",
   "execution_count": null,
   "id": "e85387d6-0643-4fa3-ae51-fa26d94bc35b",
   "metadata": {},
   "outputs": [],
   "source": [
    "fc = merged2.explore('Fixed capital formation (million euros)')\n",
    "fc"
   ]
  },
  {
   "cell_type": "code",
   "execution_count": null,
   "id": "59edf970-2d67-4090-b76c-5f5d1d543c26",
   "metadata": {},
   "outputs": [],
   "source": [
    "gdf1_json = json.loads(merged2.to_json())\n",
    "merged2['Periods'] = merged2['Periods'].astype(str)"
   ]
  },
  {
   "cell_type": "code",
   "execution_count": null,
   "id": "ee6643e8-88f2-40c9-871b-c68cf1d8ad5a",
   "metadata": {},
   "outputs": [],
   "source": [
    "fig = px.choropleth_mapbox(\n",
    "    merged2,\n",
    "    geojson=gdf1_json,\n",
    "    locations='Regions',\n",
    "    featureidkey='properties.Regions',\n",
    "    color='Fixed capital formation (million euros)',\n",
    "    animation_frame='Periods',\n",
    "    mapbox_style=\"carto-positron\",\n",
    "    zoom=6,\n",
    "    center={\"lat\": 52.366, \"lon\": 5.515},\n",
    "    color_continuous_scale=\"tempo\",\n",
    "    title=\"Fixed capital formation (million euros) (2015-2021)\",\n",
    "    range_color=(merged2['Fixed capital formation (million euros)'].min(), merged2['Fixed capital formation (million euros)'].max()),\n",
    "    width=1100,\n",
    "    height=750\n",
    ")\n",
    "\n",
    "fig.show()",
    "fig.write_html("Output/fcf.html")"
   ]
  },
  {
   "cell_type": "markdown",
   "id": "7ef55da1-b8c7-493b-b96f-be1b40b52fd3",
   "metadata": {},
   "source": [
    "The fixed capital formation appears to be increasing unevenly. Let's see if there is any correlation between fixed capital formation and natural gas consumption."
   ]
  },
  {
   "cell_type": "code",
   "execution_count": null,
   "id": "d6188f48-c7c5-423c-a015-20c99cdb38a6",
   "metadata": {},
   "outputs": [],
   "source": [
    "energy_total = energy_total[energy_total['Periods'] != '2022']\n",
    "fcf['Periods'] = fcf['Periods'].astype(str)\n",
    "energyfcf = energy_total.merge(fcf, on = ['Regions', 'Periods'])"
   ]
  },
  {
   "cell_type": "code",
   "execution_count": null,
   "id": "90d96741-b29a-4f8a-ad56-47c22b62be4b",
   "metadata": {},
   "outputs": [],
   "source": [
    "sns.lmplot(\n",
    "    data=energyfcf,\n",
    "    x='Fixed capital formation (million euros)',\n",
    "    y='Average consumption of natural gas (m3)',\n",
    "    col='Regions',\n",
    "    hue='Periods',\n",
    "    col_wrap=4,\n",
    "    height=4,\n",
    "    aspect=1,\n",
    "    palette='viridis',\n",
    "    scatter_kws={\"s\": 100, \"alpha\": 0.7}, \n",
    "    line_kws={\"color\": \"red\", \"lw\": 2},  \n",
    ")\n",
    "\n",
    "plt.suptitle('Correlation between Natural Gas Consumption and Fixed Capital Formation (2015-2021)', size=16)\n",
    "plt.subplots_adjust(top=0.9)  \n",
    "plt.savefig('corr.png', bbox_inches='tight')",
    "plt.show()"
   ]
  },
  {
   "cell_type": "markdown",
   "id": "321d3f37-1f85-41b8-b591-8cc8fe2d8710",
   "metadata": {},
   "source": [
    "There does not appear to be any coherent relationship between fixed capital formation and natural gas consumption."
   ]
  }
 ],
 "metadata": {
  "kernelspec": {
   "display_name": "Python 3 (ipykernel)",
   "language": "python",
   "name": "python3"
  },
  "language_info": {
   "codemirror_mode": {
    "name": "ipython",
    "version": 3
   },
   "file_extension": ".py",
   "mimetype": "text/x-python",
   "name": "python",
   "nbconvert_exporter": "python",
   "pygments_lexer": "ipython3",
   "version": "3.11.7"
  }
 },
 "nbformat": 4,
 "nbformat_minor": 5
}
