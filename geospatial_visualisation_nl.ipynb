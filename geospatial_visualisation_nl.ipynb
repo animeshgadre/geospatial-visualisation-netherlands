{
 "cells": [
  {
   "cell_type": "markdown",
   "id": "a41140e0-ac0b-459a-8489-f4b8ae3df82f",
   "metadata": {},
   "source": [
    "# Basic Geospatial Visualisation: The Netherlands"
   ]
  },
  {
   "cell_type": "markdown",
   "id": "d8f3633d-71f2-4c4f-9d72-f7a64397a61f",
   "metadata": {},
   "source": [
    "This is an elementary geospatial visualisation exercise on Python. I use the polygon shapefile containing the first-level administrative divisions (provinces) of Netherlands. "
   ]
  },
  {
   "cell_type": "code",
   "execution_count": null,
   "id": "bd754f87-897b-4a0a-8376-be4b388a2933",
   "metadata": {},
   "outputs": [],
   "source": [
    "import numpy as np\n",
    "import pandas as pd\n",
    "import geopandas as gpd\n",
    "import plotly.express as px\n",
    "import matplotlib.pyplot as plt\n",
    "import json\n",
    "import colorcet as cc\n",
    "import seaborn as sns"
   ]
  },
  {
   "cell_type": "code",
   "execution_count": null,
   "id": "6ac7121a-1fc2-4241-897d-3c536486f535",
   "metadata": {},
   "outputs": [],
   "source": [
    "# Reading the shapefile and the CBS data. The data contains province-wise natural gas consumption in the year 2015.\n",
    "\n",
    "df = gpd.read_file(\"https://stacks.stanford.edu/file/druid:st293bj4601/data.zip\")\n",
    "energy = pd.read_csv(\"Data/energy.csv\", sep = ';')"
   ]
  },
  {
   "cell_type": "code",
   "execution_count": null,
   "id": "599d3884-3fd7-4145-9f5d-05e1b4872855",
   "metadata": {},
   "outputs": [],
   "source": [
    "# Cleaning data for convenience\n",
    "\n",
    "energy = energy[energy['Housing characteristics'] == 'Total dwellings']\n",
    "province_mapping = {\n",
    "    'Groningen (PV)': 'Groningen',\n",
    "    'Fryslân (PV)': 'Friesland',\n",
    "    'Drenthe (PV)': 'Drenthe',\n",
    "    'Overijssel (PV)' : 'Overijssel',\n",
    "    'Flevoland (PV)' : 'Flevoland',\n",
    "    'Gelderland (PV)' : 'Gelderland',\n",
    "    'Utrecht (PV)' : 'Utrecht',\n",
    "    'Noord-Holland (PV)' : 'Noord-Holland',\n",
    "    'Zuid-Holland (PV)' : 'Zuid-Holland',\n",
    "    'Zeeland (PV)' : 'Zeeland',\n",
    "    'Noord-Brabant (PV)' : 'Noord-Brabant',\n",
    "    'Limburg (PV)' : 'Limburg'}\n",
    "\n",
    "def replace_name(province):\n",
    "    return province_mapping.get(province, province)    \n",
    "\n",
    "energy.loc[:, 'Regions'] = energy['Regions'].apply(replace_name)\n",
    "df.rename(columns={'NAME_1': 'Regions'}, inplace=True)\n",
    "energy = energy[['Housing characteristics', 'Regions', 'Periods', 'Average consumption of natural gas (m3)', 'Average supply of electricity (kWh)']]\n",
    "df = df[df['TYPE_1'] == 'Provincie']\n",
    "df = df.reset_index(drop=True)\n",
    "merged = df.merge(energy, on = ['Regions'])"
   ]
  },
  {
   "cell_type": "code",
   "execution_count": null,
   "id": "d47f63ac-d9b9-40be-961c-e6a03ebefccf",
   "metadata": {},
   "outputs": [],
   "source": [
    "ac = merged.explore('Average consumption of natural gas (m3)')\n",
    "ac"
   ]
  },
  {
   "cell_type": "code",
   "execution_count": null,
   "id": "8fc7834a-14cc-40a5-8ccf-94b4c11a25b7",
   "metadata": {},
   "outputs": [],
   "source": [
    "variable = 'Average consumption of natural gas (m3)'\n",
    "\n",
    "vmin, vmax = 120, 220\n",
    "\n",
    "fig, ax = plt.subplots(1, figsize=(10, 6))\n",
    "merged.plot(column=variable, cmap='PuBuGn', linewidth=0.8, ax=ax, edgecolor= '0.8', legend=True)\n",
    "ax.axis('off')\n",
    "ax.set_title('Average consumption of natural gas (m3), 2015',fontdict={'fontsize': '14', 'fontweight' : '3'})\n",
    "ax.annotate('Source: Centraal Bureau voor de Statistiek', xy=(0.1, .08),  xycoords= 'figure fraction', horizontalalignment='left', verticalalignment='top', fontsize=10, color='#555555')\n",
    "plt.savefig('avg_gas.png', bbox_inches='tight')"
   ]
  },
  {
   "cell_type": "code",
   "execution_count": null,
   "id": "38092a36-d55d-4de6-a21c-0bcaf6fff2f3",
   "metadata": {},
   "outputs": [],
   "source": [
    "# Reading data for natural gas consumption from 2015 to 2022\n",
    "\n",
    "energy_total = pd.read_csv(\"Data/energy_total.csv\", sep = ';')\n",
    "energy_total.loc[:, 'Regions'] = energy_total['Regions'].apply(replace_name)\n",
    "energy_total = energy_total[energy_total['Housing characteristics'] == 'Total dwellings']\n",
    "energy_total['Periods'] = energy_total['Periods'].str.replace('2022*', '2022', regex=False)\n",
    "merged1 = df.merge(energy_total, on = ['Regions'])"
   ]
  },
  {
   "cell_type": "code",
   "execution_count": null,
   "id": "9031cf04-c125-459c-8a4f-c4fb513e4c50",
   "metadata": {},
   "outputs": [],
   "source": [
    "gdf_json = json.loads(merged1.to_json())\n",
    "merged1['Periods'] = merged1['Periods'].astype(str)"
   ]
  },
  {
   "cell_type": "code",
   "execution_count": null,
   "id": "76772cbc-af0c-483d-b0c1-6ce752a3de20",
   "metadata": {},
   "outputs": [],
   "source": [
    "# Animated choropleth map tracking the changes in natural gas consumption\n",
    "\n",
    "fig = px.choropleth_mapbox(\n",
    "    merged1,\n",
    "    geojson=gdf_json,\n",
    "    locations='Regions',\n",
    "    featureidkey='properties.Regions',\n",
    "    color='Average consumption of natural gas (m3)',\n",
    "    animation_frame='Periods',\n",
    "    mapbox_style=\"carto-positron\",\n",
    "    zoom=6,\n",
    "    center={\"lat\": 52.366, \"lon\": 5.515},\n",
    "    color_continuous_scale=\"Emrld\",\n",
    "    title=\"Natural Gas Consumption in the Netherlands (2015-2022)\",\n",
    "    range_color=(merged1['Average consumption of natural gas (m3)'].min(), merged1['Average consumption of natural gas (m3)'].max()),\n",
    "    width=1100,\n",
    "    height=750\n",
    ")\n",
    "\n",
    "fig.show()\n",
    "fig.write_html(\"Output/gas.html\")"
   ]
  },
  {
   "cell_type": "code",
   "execution_count": null,
   "id": "a7bf265a-eec2-4015-a38c-c18e82b22005",
   "metadata": {},
   "outputs": [],
   "source": [
    "# Spatio-temporal plot\n",
    "\n",
    "fig, axes = plt.subplots(nrows=2, ncols=4, figsize=(16, 12))\n",
    "axes = axes.flatten()\n",
    "fig.patch.set_facecolor('#d2e1f7')\n",
    "legend_choice = [False] * len(axes)\n",
    "legend_choice[2] = True\n",
    "for i, year in enumerate(merged1[\"Periods\"].unique()):\n",
    "    merged1_cut = merged1[merged1[\"Periods\"] == year]\n",
    "    merged1_cut.plot(\n",
    "        ax=axes[i],\n",
    "        column=variable,\n",
    "        vmin=400,\n",
    "        vmax=1800,\n",
    "        cmap=cc.cm.CET_L19,\n",
    "    )\n",
    "    axes[i].axis(\"off\")\n",
    "    axes[i].set_title(pd.to_datetime(str(year)).strftime(\"%Y\"), size=10)\n",
    "\n",
    "cbar_ax = fig.add_axes([0.92, 0.15, 0.02, 0.7])  \n",
    "sm = plt.cm.ScalarMappable(cmap=cc.cm.CET_L19, norm=plt.Normalize(vmin=400, vmax=1800))\n",
    "cbar = fig.colorbar(sm, cax=cbar_ax) \n",
    "\n",
    "plt.suptitle(\"Change in Natural Gas Consumption\", size=14)\n",
    "plt.savefig('gas_change.png', bbox_inches='tight')\n",
    "plt.show()"
   ]
  },
  {
   "cell_type": "markdown",
   "id": "adc5edbe-c95b-4b22-9ce7-40d6f20b9f96",
   "metadata": {},
   "source": [
    "We can observe that the natural gas consumption across provinces is on a steady decline. There is a surge in the consumption in 2021 presumably due to the resumption of full scale economic activity after the end of the lockdown."
   ]
  },
  {
   "cell_type": "code",
   "execution_count": null,
   "id": "7e3d3b29-71c7-4f0e-9b9a-071fc8567552",
   "metadata": {},
   "outputs": [],
   "source": [
    "# Reading data for fixed capital formation\n",
    "\n",
    "fcf = pd.read_csv(\"Data/fcf.csv", sep = ';'),
    "fcf.loc[:, 'Regions'] = fcf['Regions'].apply(replace_name)\n",
    "merged2 = df.merge(fcf, on = ['Regions'])"
   ]
  },
  {
   "cell_type": "code",
   "execution_count": null,
   "id": "9b4f29ea-536a-4ca4-b180-7c1411080973",
   "metadata": {},
   "outputs": [],
   "source": [
    "fc = merged2.explore('Fixed capital formation (million euros)')\n",
    "fc"
   ]
  },
  {
   "cell_type": "code",
   "execution_count": null,
   "id": "ec371fb1-e64c-46c9-9252-aabdca691328",
   "metadata": {},
   "outputs": [],
   "source": [
    "gdf1_json = json.loads(merged2.to_json())\n",
    "merged2['Periods'] = merged2['Periods'].astype(str)"
   ]
  },
  {
   "cell_type": "code",
   "execution_count": null,
   "id": "e11833c8-b697-42dd-9639-429940795a6e",
   "metadata": {},
   "outputs": [],
   "source": [
    "fig = px.choropleth_mapbox(\n",
    "    merged2,\n",
    "    geojson=gdf1_json,\n",
    "    locations='Regions',\n",
    "    featureidkey='properties.Regions',\n",
    "    color='Fixed capital formation (million euros)',\n",
    "    animation_frame='Periods',\n",
    "    mapbox_style=\"carto-positron\",\n",
    "    zoom=6,\n",
    "    center={\"lat\": 52.366, \"lon\": 5.515},\n",
    "    color_continuous_scale=\"tempo\",\n",
    "    title=\"Fixed capital formation (million euros) (2015-2021)\",\n",
    "    range_color=(merged2['Fixed capital formation (million euros)'].min(), merged2['Fixed capital formation (million euros)'].max()),\n",
    "    width=1100,\n",
    "    height=750\n",
    ")\n",
    "\n",
    "fig.show()\n",
    "fig.write_html(\"Output/fcf.html\")"
   ]
  },
  {
   "cell_type": "markdown",
   "id": "9582a508-942f-4aeb-9907-fed740e3c498",
   "metadata": {},
   "source": [
    "The fixed capital formation appears to be increasing unevenly. Let's see if there is any correlation between fixed capital formation and natural gas consumption."
   ]
  },
  {
   "cell_type": "code",
   "execution_count": null,
   "id": "2dd90733-6a0e-4596-bb0f-a56636d90218",
   "metadata": {},
   "outputs": [],
   "source": [
    "energy_total = energy_total[energy_total['Periods'] != '2022']\n",
    "fcf['Periods'] = fcf['Periods'].astype(str)\n",
    "energyfcf = energy_total.merge(fcf, on = ['Regions', 'Periods'])"
   ]
  },
  {
   "cell_type": "code",
   "execution_count": null,
   "id": "ba85b7f9-327a-4e67-8217-311ce37cc4a9",
   "metadata": {
    "scrolled": true
   },
   "outputs": [],
   "source": [
    "sns.lmplot(\n",
    "    data=energyfcf,\n",
    "    x='Fixed capital formation (million euros)',\n",
    "    y='Average consumption of natural gas (m3)',\n",
    "    col='Regions',\n",
    "    hue='Periods',\n",
    "    col_wrap=4,\n",
    "    height=4,\n",
    "    aspect=1,\n",
    "    palette='viridis',\n",
    "    scatter_kws={\"s\": 100, \"alpha\": 0.7}, \n",
    "    line_kws={\"color\": \"red\", \"lw\": 2},  \n",
    ")\n",
    "\n",
    "plt.suptitle('Correlation between Natural Gas Consumption and Fixed Capital Formation (2015-2021)', size=16)\n",
    "plt.subplots_adjust(top=0.9)  \n",
    "plt.savefig('corr.png', bbox_inches='tight')\n",
    "plt.show()"
   ]
  },
  {
   "cell_type": "markdown",
   "id": "148879cf-f2f8-4b5f-ac95-758f6a8f18ba",
   "metadata": {},
   "source": [
    "There does not appear to be any coherent relationship between fixed capital formation and natural gas consumption."
   ]
  }
 ],
 "metadata": {
  "kernelspec": {
   "display_name": "Python 3 (ipykernel)",
   "language": "python",
   "name": "python3"
  },
  "language_info": {
   "codemirror_mode": {
    "name": "ipython",
    "version": 3
   },
   "file_extension": ".py",
   "mimetype": "text/x-python",
   "name": "python",
   "nbconvert_exporter": "python",
   "pygments_lexer": "ipython3",
   "version": "3.11.7"
  }
 },
 "nbformat": 4,
 "nbformat_minor": 5
}
